{
  "nbformat": 4,
  "nbformat_minor": 0,
  "metadata": {
    "colab": {
      "provenance": [],
      "authorship_tag": "ABX9TyMhSD+F7qL/D8PGqgu0pVW4",
      "include_colab_link": true
    },
    "kernelspec": {
      "name": "python3",
      "display_name": "Python 3"
    },
    "language_info": {
      "name": "python"
    }
  },
  "cells": [
    {
      "cell_type": "markdown",
      "metadata": {
        "id": "view-in-github",
        "colab_type": "text"
      },
      "source": [
        "<a href=\"https://colab.research.google.com/github/yongmin1004/2025-2-Discrete-MathMetics/blob/main/%5B09%5DGraph_%EC%8B%A4%EC%8A%B5.ipynb\" target=\"_parent\"><img src=\"https://colab.research.google.com/assets/colab-badge.svg\" alt=\"Open In Colab\"/></a>"
      ]
    },
    {
      "cell_type": "markdown",
      "source": [],
      "metadata": {
        "id": "ySgzZiF9LFos"
      }
    },
    {
      "cell_type": "code",
      "execution_count": null,
      "metadata": {
        "id": "hHjz-Q8SLB3v"
      },
      "outputs": [],
      "source": [
        "#DFS를 이용한 친구추천\n",
        "from collections import deque\n",
        "graph = {\n",
        "    'Alice':['Bob','Charlie'],\n",
        "    'Bob':['David','Eve'],\n",
        "    'Charlie':['Frank'],\n",
        "    'David':[],\n",
        "    'Eve':['Frank'],\n",
        "    'Frank':[]\n",
        "}\n",
        "\n",
        "#1. DFS 사용\n",
        "def dfs(graph,v,visited):\n",
        "  visited.add(v)\n",
        "  print(v,end=' ')\n",
        "  for neighbor in graph[v]:\n",
        "    if neighbor not in visited:\n",
        "      dfs(graph,neighbor,visited)\n",
        "\n",
        "print(\"DFS 탐색순서\")\n",
        "dfs(graph,'Alice',set())\n",
        "\n",
        "\n",
        ""
      ]
    },
    {
      "cell_type": "code",
      "source": [
        "#BFS를 사용한 친구추천\n",
        "from collections import deque\n",
        "graph = {\n",
        "    'Alice':['Bob','Charlie'],\n",
        "    'Bob':['David','Eve'],\n",
        "    'Charlie':['Frank'],\n",
        "    'David':[],\n",
        "    'Eve':['Frank'],\n",
        "    'Frank':[]\n",
        "}\n",
        "\n",
        "#1. BFS사용\n",
        "def bfs(graph,start):\n",
        "  visited = set()\n",
        "  queue = deque([start])\n",
        "  visited.add(start)\n",
        "  while queue:\n",
        "    w = queue.popleft()\n",
        "    print(w,end=' ')\n",
        "    for neighbor in graph[w]: # Changed from start[w] to graph[w]\n",
        "      if neighbor not in visited:\n",
        "        visited.add(neighbor)\n",
        "        queue.append(neighbor)\n",
        "\n",
        "print(\"BFS 탐색 순서\")\n",
        "bfs(graph,'Alice')"
      ],
      "metadata": {
        "colab": {
          "base_uri": "https://localhost:8080/"
        },
        "id": "6Ji9lGl8MLW4",
        "outputId": "c21871a6-d40c-42f4-d9e5-edb9c5a8d5ef"
      },
      "execution_count": 6,
      "outputs": [
        {
          "output_type": "stream",
          "name": "stdout",
          "text": [
            "BFS 탐색 순서\n",
            "Alice Bob Charlie David Eve Frank "
          ]
        }
      ]
    },
    {
      "cell_type": "code",
      "source": [
        "#BFS를 이용한 친구추천 시스템\n",
        "from collections import deque\n",
        "\n",
        "graph = {\n",
        "    'Alice':['Bob','Charlie'],\n",
        "    'Bob':['David','Eve'],\n",
        "    'Charlie':['Frank'],\n",
        "    'David':[],\n",
        "    'Eve':['Frank'],\n",
        "    'Frank':[]\n",
        "}\n",
        "\n",
        "def recommend_friend(graph,start):\n",
        "  visited = set()\n",
        "  queue = deque([(start,0)])\n",
        "\n",
        "  print(f\"\\n{start}의 친구 추천 (2단계):\")\n",
        "\n",
        "  while queue:\n",
        "    current, depth = queue.popleft()\n",
        "\n",
        "    if current not in visited:\n",
        "      visited.add(current)\n",
        "\n",
        "      if depth == 2:\n",
        "        print(\"-\",current)\n",
        "\n",
        "      if depth < 2:\n",
        "        for neighbor in graph[current]:\n",
        "          if neighbor not in visited:\n",
        "            queue.append((neighbor,depth+1))\n",
        "\n",
        "recommend_friend(graph,'Alice')\n",
        ""
      ],
      "metadata": {
        "colab": {
          "base_uri": "https://localhost:8080/"
        },
        "id": "zctr32-0M-QY",
        "outputId": "030806a6-9802-47c5-e6dd-d4e3c52a5529"
      },
      "execution_count": 9,
      "outputs": [
        {
          "output_type": "stream",
          "name": "stdout",
          "text": [
            "\n",
            "Alice의 친구 추천 (2단계):\n",
            "- David\n",
            "- Eve\n",
            "- Frank\n"
          ]
        }
      ]
    },
    {
      "cell_type": "code",
      "source": [],
      "metadata": {
        "id": "E6L0dVGNPyK2"
      },
      "execution_count": null,
      "outputs": []
    }
  ]
}