{
  "nbformat": 4,
  "nbformat_minor": 0,
  "metadata": {
    "colab": {
      "provenance": [],
      "authorship_tag": "ABX9TyOlqoke6KDdHt3JQX7tYJHw",
      "include_colab_link": true
    },
    "kernelspec": {
      "name": "python3",
      "display_name": "Python 3"
    },
    "language_info": {
      "name": "python"
    }
  },
  "cells": [
    {
      "cell_type": "markdown",
      "metadata": {
        "id": "view-in-github",
        "colab_type": "text"
      },
      "source": [
        "<a href=\"https://colab.research.google.com/github/yongmin1004/2025-2-Discrete-MathMetics/blob/main/%5B03%5D%EC%A7%91%ED%95%A9%EC%8B%A4%EC%8A%B5.ipynb\" target=\"_parent\"><img src=\"https://colab.research.google.com/assets/colab-badge.svg\" alt=\"Open In Colab\"/></a>"
      ]
    },
    {
      "cell_type": "code",
      "execution_count": null,
      "metadata": {
        "colab": {
          "base_uri": "https://localhost:8080/"
        },
        "id": "xKhFPP9UzzJE",
        "outputId": "fe59d398-10d8-4562-8bc5-cd1d9163ffc0"
      },
      "outputs": [
        {
          "output_type": "stream",
          "name": "stdout",
          "text": [
            "{1, 2, 3}\n",
            "{2, 3, 4}\n",
            "{2, 3}\n",
            "{1, 2, 3, 4}\n",
            "{1}\n"
          ]
        }
      ],
      "source": [
        "#1. 간단한 집합 연산\n",
        "s1 = set([1,2,3])\n",
        "print(s1)\n",
        "s2 = set([2,3,4])\n",
        "print(s2)\n",
        "\n",
        "print(s1 & s2) #and 연산\n",
        "print(s1 | s2) #or 연산\n",
        "print(s1 - s2) #차집합 연산"
      ]
    },
    {
      "cell_type": "code",
      "source": [
        "#2 두 은행의 고객 집합 합병\n",
        "bankA_customers = set([\"김철수\",\"이영희\",\"박민수\",\"최지우\"])\n",
        "bankB_customers = set([\"이영희\",\"최지우\",\"정우성\",\"한지민\"])\n",
        "\n",
        "print(\"은행 A 고객:\",bankA_customers)\n",
        "print(\"은행 B 고객:\",bankB_customers)\n",
        "\n",
        "total_customers = bankA_customers | bankB_customers #합집합\n",
        "print(\"합병 후 전체 고객:\",total_customers)\n",
        "\n",
        "common_customers = bankA_customers & bankB_customers #교집합\n",
        "print(\"공통 고객:\",common_customers)\n",
        "\n",
        "#A 은행에만 있는 고객(차집합)\n",
        "only_A_customers = bankA_customers - bankB_customers\n",
        "print(\"A은행에만 있는 고객:\",only_A_customers)\n",
        "\n",
        "#B 은행에만 있는 고객(차집합)\n",
        "only_B_customers = bankB_customers - bankA_customers\n",
        "print(\"B 은행에만 있는 고객:\",only_B_customers)\n"
      ],
      "metadata": {
        "id": "m2a9ece-1spf",
        "colab": {
          "base_uri": "https://localhost:8080/"
        },
        "outputId": "81131321-ab92-463c-87ca-7cb024c5f854"
      },
      "execution_count": 2,
      "outputs": [
        {
          "output_type": "stream",
          "name": "stdout",
          "text": [
            "은행 A 고객: {'김철수', '이영희', '최지우', '박민수'}\n",
            "은해 B 고객: {'한지민', '이영희', '정우성', '최지우'}\n",
            "합병 후 전체 고객: {'한지민', '김철수', '박민수', '이영희', '정우성', '최지우'}\n",
            "공통 고객: {'이영희', '최지우'}\n",
            "A은행에만 있는 고객: {'김철수', '박민수'}\n",
            "B 은행에만 있는 고객: {'한지민', '정우성'}\n"
          ]
        }
      ]
    },
    {
      "cell_type": "code",
      "source": [
        "#3. 임의의 입력 색상을 받아, 12가지 파버카스텔 색연필 색상 집합에서 가장 가까운 색상으로 매핑\n",
        "import numpy as np\n",
        "faber_castell_colors={\n",
        "    \"White\":(255,255,255),\n",
        "    \"Black\":(0,0,0),\n",
        "    \"Brown\":(159,75,0),\n",
        "    \"Orange\":(255,127,0),\n",
        "    \"Red\":(255,0,0),\n",
        "    \"Yellow\":(255,255,0),\n",
        "    \"Light Green\":(0,255,0),\n",
        "    \"Green\":(0,128,0),\n",
        "    \"Light Blue\":(0,255,255),\n",
        "    \"Blue\":(0,0,255),\n",
        "    \"Purple\":(128,0,128),\n",
        "    \"Pink\":(255,192,203)\n",
        "}\n",
        "\n",
        "#입력 생상\n",
        "input_color = (120,100,200)\n",
        "\n",
        "def find_nearest_color(input_rgb,color_set):\n",
        "  min_dist = float('inf')\n",
        "  nearest_name = None\n",
        "\n",
        "  for name,rgb in color_set.items():\n",
        "    dist = np.sqrt(sum((a-b)**2 for a,b in zip(input_rgb,rgb)))\n",
        "    if dist < min_dist:\n",
        "      min_dist = dist\n",
        "      nearest_name = name\n",
        "\n",
        "  return nearest_name, color_set[nearest_name]\n",
        "\n",
        "nearest_name ,nearest_rgb = find_nearest_color(input_color,faber_castell_colors)\n",
        "\n",
        "print(f\"입력 색상:{input_color}\")\n",
        "print(f\"가장 가까운 파버카스텔 색상:{nearest_name}, RGB:{nearest_rgb}\")"
      ],
      "metadata": {
        "colab": {
          "base_uri": "https://localhost:8080/"
        },
        "id": "xoxI16yLWVLd",
        "outputId": "5a35b606-7044-4162-d7f1-fd314ec62849"
      },
      "execution_count": 4,
      "outputs": [
        {
          "output_type": "stream",
          "name": "stdout",
          "text": [
            "입력 색상:(120, 100, 200)\n",
            "가장 가까운 파버카스텔 색상:Purple, RGB:(128, 0, 128)\n"
          ]
        }
      ]
    }
  ]
}