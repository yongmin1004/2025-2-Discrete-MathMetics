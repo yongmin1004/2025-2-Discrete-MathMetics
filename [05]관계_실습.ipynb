{
  "nbformat": 4,
  "nbformat_minor": 0,
  "metadata": {
    "colab": {
      "provenance": [],
      "authorship_tag": "ABX9TyNqMKlCqlFjXJ1OLCHUjFG5",
      "include_colab_link": true
    },
    "kernelspec": {
      "name": "python3",
      "display_name": "Python 3"
    },
    "language_info": {
      "name": "python"
    }
  },
  "cells": [
    {
      "cell_type": "markdown",
      "metadata": {
        "id": "view-in-github",
        "colab_type": "text"
      },
      "source": [
        "<a href=\"https://colab.research.google.com/github/yongmin1004/2025-2-Discrete-MathMetics/blob/main/%5B05%5D%EA%B4%80%EA%B3%84_%EC%8B%A4%EC%8A%B5.ipynb\" target=\"_parent\"><img src=\"https://colab.research.google.com/assets/colab-badge.svg\" alt=\"Open In Colab\"/></a>"
      ]
    },
    {
      "cell_type": "code",
      "execution_count": null,
      "metadata": {
        "id": "OlT-R_YPHVmm"
      },
      "outputs": [],
      "source": [
        "import numpy as np\n",
        "import networkx as nx\n",
        "import matplotlib.pyplot as plt\n",
        "\n",
        "#1.이항 관계 연산\n",
        "A = {1,2,3}\n",
        "B = {2,3,4}\n",
        "R = {(1,2),(2,3),(3,2),(3,4)}\n",
        "print(\"관계R:\",R)"
      ]
    },
    {
      "cell_type": "code",
      "source": [
        "#2. 관계 행렬 표현\n",
        "import numpy as np\n",
        "import networkx as nx\n",
        "import matplotlib.pyplot as plt\n",
        "\n",
        "A = {1,2,3}\n",
        "B = {2,3,4}\n",
        "R = {(1,2),(2,3),(3,2),(3,4)}\n",
        "\n",
        "A_list = sorted(A)\n",
        "B_list = sorted(B)\n",
        "\n",
        "relation_matrix = np.zeros((len(A_list),len(B_list)),dtype = int)\n",
        "\n",
        "for i , a in enumerate(A_list): #i = index a = value\n",
        "  for j , b in enumerate(B_list):# j = index b = value\n",
        "    if(a,b) in R:\n",
        "      relation_matrix[i,j] = 1\n",
        "\n",
        "print(\"관계 행렬(rows:A, columns:B):\")\n",
        "print(relation_matrix)\n"
      ],
      "metadata": {
        "colab": {
          "base_uri": "https://localhost:8080/"
        },
        "id": "XnTrbq9GH9Nq",
        "outputId": "91eb555a-c7a7-4fa0-aa07-233cb0ec6964"
      },
      "execution_count": 1,
      "outputs": [
        {
          "output_type": "stream",
          "name": "stdout",
          "text": [
            "관계 행렬(rows:A, columns:B):\n",
            "[[1 0 0]\n",
            " [0 1 0]\n",
            " [1 0 1]]\n"
          ]
        }
      ]
    },
    {
      "cell_type": "code",
      "source": [
        "#3. 합성 관계 예제\n",
        "import numpy as np\n",
        "import networkx as nx\n",
        "import matplotlib.pyplot as plt\n",
        "\n",
        "#R: A->B\n",
        "#S: B->C\n",
        "\n",
        "A = {1,2,3}\n",
        "B = {2,3,4}\n",
        "C = {'x','y'}\n",
        "R = {(1,2),(2,3),(3,2),(3,4)} #A -> B 로 향하는 관계 (a,b1)\n",
        "S = {(2,'x'),(3,'y'),(4,'x')} #B -> C로 향하는 관계 (b2,c)\n",
        "\n",
        "#합성관계 R.S\n",
        "composed_relation = set()\n",
        "\n",
        "for(a,b1) in R:\n",
        "  for(b2,c) in S:\n",
        "    if b1 == b2:\n",
        "      composed_relation.add((a,c))\n",
        "\n",
        "print(\"\\n합성 관계 R.S:\",composed_relation)"
      ],
      "metadata": {
        "colab": {
          "base_uri": "https://localhost:8080/"
        },
        "id": "0mwGOveHIsvy",
        "outputId": "2d9afd37-349a-409c-e5cb-a240b3428fee"
      },
      "execution_count": 2,
      "outputs": [
        {
          "output_type": "stream",
          "name": "stdout",
          "text": [
            "\n",
            "합성 관계 R.S: {(3, 'x'), (1, 'x'), (2, 'y')}\n"
          ]
        }
      ]
    }
  ]
}